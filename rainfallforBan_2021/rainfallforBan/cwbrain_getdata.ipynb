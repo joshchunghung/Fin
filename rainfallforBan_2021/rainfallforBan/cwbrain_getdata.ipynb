{
 "cells": [
  {
   "cell_type": "code",
   "execution_count": 63,
   "metadata": {},
   "outputs": [],
   "source": [
    "import urllib.request as req\n",
    "import requests\n",
    "import time\n",
    "from bs4 import BeautifulSoup\n",
    "import pandas as pd\n",
    "from obspy import UTCDateTime\n",
    "from glob import glob\n",
    "import numpy as np"
   ]
  },
  {
   "cell_type": "code",
   "execution_count": 6,
   "metadata": {},
   "outputs": [],
   "source": [
    "### \"Cookie\"需要每次更換\n",
    "url_header={\"sec-ch-ua-mobile\": \"?0\",\n",
    "\"sec-ch-ua-platform\": \"Linux\",\n",
    "\"sec-fetch-dest\": \"empty\",\n",
    "\"sec-fetch-mode\": \"no-ct.csvors\",\n",
    "\"sec-fetch-site\": \"same-origin\",\n",
    "\"user-agent\":\"Mozilla/5.0 (X11; Fedora; Linux x86_64) AppleWebKit/537.36 (KHTML, like Gecko) Chrome/96.0.4664.45 Safari/537.36\"\n",
    "           }"
   ]
  },
  {
   "cell_type": "code",
   "execution_count": 5,
   "metadata": {},
   "outputs": [],
   "source": [
    "def get_url (time):\n",
    "        \n",
    "    url=f\"https://e-service.cwb.gov.tw/HistoryDataQuery/MonthDataController.do?command=viewMain\"+\\\n",
    "        f\"&station=C0AC70&stname=%25E4%25BF%25A1%25E7%25BE%25A9&datepicker={time}\"\n",
    "         \n",
    "    return url\n",
    "    \n",
    " "
   ]
  },
  {
   "cell_type": "code",
   "execution_count": 4,
   "metadata": {},
   "outputs": [],
   "source": [
    "def get_rain_data(time1):\n",
    "    \"\"\"\n",
    "    tr.select('td'): 選tr底下的td子節點標籤\n",
    "    \"\"\"\n",
    "    csv_name=f\"{time1}.csv\"\n",
    "    url=get_url(time=time1)\n",
    "    reqst=requests.get(url,headers=url_header)\n",
    "    soup = BeautifulSoup(reqst.text,'html.parser') # 轉成網頁格式\n",
    "    xlist=[['date','precp']]\n",
    "    for tr in soup.find_all('tr'):\n",
    "        try:\n",
    "            xlist.append([f\"{time1}-{tr.select('td')[0].string.zfill(2)}\",tr.select('td')[21].string.split()[0]])\n",
    "        except:\n",
    "            continue\n",
    "    df=pd.DataFrame(xlist)\n",
    "    df.to_csv(csv_name, sep=',',mode='w',header=None,index=None)\n",
    "    "
   ]
  },
  {
   "cell_type": "code",
   "execution_count": 8,
   "metadata": {},
   "outputs": [
    {
     "name": "stdout",
     "output_type": "stream",
     "text": [
      "2021-01\n",
      "2021-02\n",
      "2021-03\n",
      "2021-04\n",
      "2021-05\n",
      "2021-06\n",
      "2021-07\n",
      "2021-08\n",
      "2021-09\n",
      "2021-10\n",
      "2021-11\n"
     ]
    }
   ],
   "source": [
    "### MAIN\n",
    "for i in range(1,12):\n",
    "    time1=f\"2021-{str(i).zfill(2)}\"\n",
    "    print(time1)\n",
    "    get_rain_data(time1)\n",
    "    time.sleep(1)"
   ]
  },
  {
   "cell_type": "code",
   "execution_count": 30,
   "metadata": {},
   "outputs": [],
   "source": [
    "### 多個CSV 合併\n",
    "files = glob('*.csv')\n",
    "df = pd.concat(\n",
    "    (pd.read_csv(file, \n",
    "                 usecols=['date','precp'], \n",
    "                 dtype={ 'date': 'object' , 'precp':'object'}) for file in files), \n",
    "    ignore_index=True)"
   ]
  },
  {
   "cell_type": "code",
   "execution_count": 77,
   "metadata": {},
   "outputs": [],
   "source": [
    "ts=df['date'] = pd.to_datetime(df['date'])\n",
    "df['precp']=pd.to_numeric(df['precp'], errors='coerce')\n",
    "df=df.sort_values(by='date')\n",
    "df.to_csv('rainfall_2021.csv', sep=',',mode='w',header=None,index=None)"
   ]
  },
  {
   "cell_type": "code",
   "execution_count": 76,
   "metadata": {},
   "outputs": [
    {
     "data": {
      "image/png": "[encoded data removed]",
      "text/plain": [
       "<Figure size 432x288 with 1 Axes>"
      ]
     },
     "metadata": {
      "needs_background": "light"
     },
     "output_type": "display_data"
    }
   ],
   "source": [
    "ax = df.plot(x='date',y='precp',\n",
    "             title=\"Precipitation\",xlabel=\"Date\",ylabel=\"mm\",\n",
    "             legend=False)\n",
    "xtick = pd.date_range(start=ts.min(), end=ts.max(), freq='W' )\n",
    "ax.set_xticks( xtick, minor=True )\n",
    "ax.set_yticks( [y for y in np.arange(0,200,10)], minor=True )\n",
    "fig = ax.get_figure()\n",
    "fig.savefig('rainfall_2021.png',format='png',dpi=300)"
   ]
  },
  {
   "cell_type": "code",
   "execution_count": 58,
   "metadata": {},
   "outputs": [
    {
     "data": {
      "text/plain": [
       "Timestamp('2021-01-01 00:00:00')"
      ]
     },
     "execution_count": 58,
     "metadata": {},
     "output_type": "execute_result"
    }
   ],
   "source": [
    "ts.min()"
   ]
  }
 ],
 "metadata": {
  "kernelspec": {
   "display_name": "Python 3 (ipykernel)",
   "language": "python",
   "name": "python3"
  },
  "language_info": {
   "codemirror_mode": {
    "name": "ipython",
    "version": 3
   },
   "file_extension": ".py",
   "mimetype": "text/x-python",
   "name": "python",
   "nbconvert_exporter": "python",
   "pygments_lexer": "ipython3",
   "version": "3.8.12"
  }
 },
 "nbformat": 4,
 "nbformat_minor": 4
}
