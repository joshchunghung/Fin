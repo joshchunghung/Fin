{
 "cells": [
  {
   "cell_type": "code",
   "execution_count": 1,
   "id": "0726d325",
   "metadata": {},
   "outputs": [],
   "source": [
    "import pandas as pd"
   ]
  },
  {
   "cell_type": "code",
   "execution_count": 49,
   "id": "7a1973c5",
   "metadata": {},
   "outputs": [],
   "source": [
    "df08=pd.read_csv('2008NSS.csv',header=0,skipinitialspace=True)\n",
    "df09=pd.read_csv('2009NSS.csv',header=0,skipinitialspace=True)"
   ]
  },
  {
   "cell_type": "code",
   "execution_count": 50,
   "id": "893ff05b",
   "metadata": {},
   "outputs": [],
   "source": [
    "df08=df08.loc[:,['sta','lat','lon','chan']] \n",
    "df09=df09.loc[:,['sta','lat','lon','chan']] "
   ]
  },
  {
   "cell_type": "code",
   "execution_count": 69,
   "id": "ff04135c",
   "metadata": {},
   "outputs": [],
   "source": [
    "#indicator=True 顯示哪邊有資料，both 都有\n",
    "# on 兩份資料共有的部分\n",
    "# how='outer' 取差集\n",
    "result=df08.merge(df09, on=['sta','chan'], how='outer', indicator=True)"
   ]
  },
  {
   "cell_type": "code",
   "execution_count": 70,
   "id": "d8f431fc",
   "metadata": {
    "scrolled": true
   },
   "outputs": [],
   "source": [
    "result.to_csv('t.csv',mode=\"w\",header=None,index=None)"
   ]
  }
 ],
 "metadata": {
  "kernelspec": {
   "display_name": "Python 3 (ipykernel)",
   "language": "python",
   "name": "python3"
  },
  "language_info": {
   "codemirror_mode": {
    "name": "ipython",
    "version": 3
   },
   "file_extension": ".py",
   "mimetype": "text/x-python",
   "name": "python",
   "nbconvert_exporter": "python",
   "pygments_lexer": "ipython3",
   "version": "3.9.7"
  }
 },
 "nbformat": 4,
 "nbformat_minor": 5
}
